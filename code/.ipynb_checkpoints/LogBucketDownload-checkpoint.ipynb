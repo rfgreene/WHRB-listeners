{
 "cells": [
  {
   "cell_type": "markdown",
   "id": "7d56dd67",
   "metadata": {
    "id": "7d56dd67"
   },
   "source": [
    "This script will download all log files generated from whrb.org in the past 24 hours to be used in the main geoanalysis script. In addition to the standard packages included with most ArcPy installations, it also requires Boto3 (https://boto3.amazonaws.com/v1/documentation/api/latest/index.html)"
   ]
  },
  {
   "cell_type": "markdown",
   "id": "06a0c1ac",
   "metadata": {
    "id": "06a0c1ac"
   },
   "source": [
    "First, let's set set up our S3 client and session. (note: requires access credentials to the AWS Bucket)"
   ]
  },
  {
   "cell_type": "code",
   "execution_count": 25,
   "id": "a979a70c",
   "metadata": {
    "id": "a979a70c"
   },
   "outputs": [],
   "source": [
    "import boto3, warnings\n",
    "import pyprojroot as ppr\n",
    "\n",
    "session = boto3.Session()\n",
    "s3 = session.resource('s3')\n",
    "\n",
    "bucket = s3.Bucket('whrbstreamlogs')\n",
    "client = boto3.client('s3')"
   ]
  },
  {
   "cell_type": "markdown",
   "id": "d0e7544d",
   "metadata": {
    "id": "d0e7544d"
   },
   "source": [
    "Next, let's download all log files from the past 24 hours. A new log file is generated roughly every minute, and each day has 24 * 60 = 1440 minutes.\n",
    "\n",
    "This code block assumes you have a folder called \"whrblogs\" in the Python workspace directory. The output location can be changed by changing 'outloc'. Creating a dedicated folder for the logs is highly recommended, as this script will generate 1440 unique files!"
   ]
  },
  {
   "cell_type": "code",
   "execution_count": 27,
   "id": "d4cfbe40",
   "metadata": {
    "id": "d4cfbe40",
    "scrolled": false
   },
   "outputs": [
    {
     "ename": "TypeError",
     "evalue": "issubclass() arg 2 must be a class, a tuple of classes, or a union",
     "output_type": "error",
     "traceback": [
      "\u001b[0;31m---------------------------------------------------------------------------\u001b[0m",
      "\u001b[0;31mTypeError\u001b[0m                                 Traceback (most recent call last)",
      "Input \u001b[0;32mIn [27]\u001b[0m, in \u001b[0;36m<cell line: 10>\u001b[0;34m()\u001b[0m\n\u001b[1;32m      9\u001b[0m i \u001b[38;5;241m=\u001b[39m \u001b[38;5;241m1\u001b[39m\n\u001b[1;32m     10\u001b[0m \u001b[38;5;28;01mfor\u001b[39;00m key \u001b[38;5;129;01min\u001b[39;00m keys:\n\u001b[0;32m---> 11\u001b[0m     outname \u001b[38;5;241m=\u001b[39m \u001b[43mppr\u001b[49m\u001b[38;5;241;43m.\u001b[39;49m\u001b[43mhere\u001b[49m\u001b[43m(\u001b[49m\u001b[38;5;124;43m'\u001b[39;49m\u001b[38;5;124;43m./data/whrblog\u001b[39;49m\u001b[38;5;124;43m'\u001b[39;49m\u001b[38;5;241;43m+\u001b[39;49m\u001b[38;5;28;43mstr\u001b[39;49m\u001b[43m(\u001b[49m\u001b[43mi\u001b[49m\u001b[43m)\u001b[49m\u001b[38;5;241;43m+\u001b[39;49m\u001b[38;5;124;43m'\u001b[39;49m\u001b[38;5;124;43m.txt\u001b[39;49m\u001b[38;5;124;43m'\u001b[39;49m\u001b[43m)\u001b[49m\n\u001b[1;32m     12\u001b[0m     client\u001b[38;5;241m.\u001b[39mdownload_file(\u001b[38;5;124m'\u001b[39m\u001b[38;5;124mwhrbstreamlogs\u001b[39m\u001b[38;5;124m'\u001b[39m, key, \u001b[38;5;28mstr\u001b[39m(outname))\n\u001b[1;32m     13\u001b[0m     i \u001b[38;5;241m+\u001b[39m\u001b[38;5;241m=\u001b[39m \u001b[38;5;241m1\u001b[39m\n",
      "File \u001b[0;32m/Library/Frameworks/Python.framework/Versions/3.10/lib/python3.10/site-packages/pyprojroot/pyprojroot.py:51\u001b[0m, in \u001b[0;36mhere\u001b[0;34m(relative_project_path, project_files, warn)\u001b[0m\n\u001b[1;32m     49\u001b[0m \u001b[38;5;28;01melse\u001b[39;00m:\n\u001b[1;32m     50\u001b[0m     \u001b[38;5;28;01mif\u001b[39;00m warn:\n\u001b[0;32m---> 51\u001b[0m         \u001b[43mwarnings\u001b[49m\u001b[38;5;241;43m.\u001b[39;49m\u001b[43mwarn\u001b[49m\u001b[43m(\u001b[49m\u001b[38;5;124;43m\"\u001b[39;49m\u001b[38;5;124;43mPath doesn\u001b[39;49m\u001b[38;5;124;43m'\u001b[39;49m\u001b[38;5;124;43mt exist: \u001b[39;49m\u001b[38;5;132;43;01m{}\u001b[39;49;00m\u001b[38;5;124;43m\"\u001b[39;49m\u001b[38;5;241;43m.\u001b[39;49m\u001b[43mformat\u001b[49m\u001b[43m(\u001b[49m\u001b[43mpath\u001b[49m\u001b[43m)\u001b[49m\u001b[43m)\u001b[49m\n\u001b[1;32m     52\u001b[0m     \u001b[38;5;28;01mreturn\u001b[39;00m path\n",
      "\u001b[0;31mTypeError\u001b[0m: issubclass() arg 2 must be a class, a tuple of classes, or a union"
     ]
    }
   ],
   "source": [
    "keys = []\n",
    "pages = bucket.objects.pages()\n",
    "warnings.simplefilter('ignore','UserWarning')\n",
    "for page in pages:\n",
    "    for obj in page:\n",
    "        if(len(keys) >= 1440*14):\n",
    "            del keys[0]\n",
    "        keys.append(obj.key)\n",
    "i = 1\n",
    "for key in keys:\n",
    "    outname = ppr.here('./data/whrblog'+str(i)+'.txt')\n",
    "    client.download_file('whrbstreamlogs', key, str(outname))\n",
    "    i += 1"
   ]
  },
  {
   "cell_type": "code",
   "execution_count": null,
   "id": "ea4cf719",
   "metadata": {
    "id": "ea4cf719"
   },
   "outputs": [],
   "source": []
  }
 ],
 "metadata": {
  "colab": {
   "collapsed_sections": [],
   "name": "Greene_FinalChallenge_AWSAccess.ipynb",
   "provenance": []
  },
  "kernelspec": {
   "display_name": "Python 3 (ipykernel)",
   "language": "python",
   "name": "python3"
  },
  "language_info": {
   "codemirror_mode": {
    "name": "ipython",
    "version": 3
   },
   "file_extension": ".py",
   "mimetype": "text/x-python",
   "name": "python",
   "nbconvert_exporter": "python",
   "pygments_lexer": "ipython3",
   "version": "3.10.5"
  }
 },
 "nbformat": 4,
 "nbformat_minor": 5
}
