{
  "cells": [
    {
      "cell_type": "markdown",
      "id": "7d56dd67",
      "metadata": {
        "id": "7d56dd67"
      },
      "source": [
        "This script will download all log files generated from whrb.org in the past 24 hours to be used in the main geoanalysis script. In addition to the standard packages included with most ArcPy installations, it also requires Boto3 (https://boto3.amazonaws.com/v1/documentation/api/latest/index.html)"
      ]
    },
    {
      "cell_type": "markdown",
      "id": "06a0c1ac",
      "metadata": {
        "id": "06a0c1ac"
      },
      "source": [
        "First, let's set set up our S3 client and session. (note: requires access credentials to the AWS Bucket)"
      ]
    },
    {
      "cell_type": "code",
      "execution_count": null,
      "id": "a979a70c",
      "metadata": {
        "id": "a979a70c"
      },
      "outputs": [],
      "source": [
        "import boto3\n",
        "\n",
        "session = boto3.Session()\n",
        "s3 = session.resource('s3')\n",
        "\n",
        "bucket = s3.Bucket('whrbstreamlogs')\n",
        "client = boto3.client('s3')"
      ]
    },
    {
      "cell_type": "markdown",
      "id": "d0e7544d",
      "metadata": {
        "id": "d0e7544d"
      },
      "source": [
        "Next, let's download all log files from the past 24 hours. A new log file is generated roughly every minute, and each day has 24 * 60 = 1440 minutes.\n",
        "\n",
        "This code block assumes you have a folder called \"whrblogs\" in the Python workspace directory. The output location can be changed by changing 'outloc'. Creating a dedicated folder for the logs is highly recommended, as this script will generate 1440 unique files!"
      ]
    },
    {
      "cell_type": "code",
      "execution_count": null,
      "id": "d4cfbe40",
      "metadata": {
        "scrolled": false,
        "id": "d4cfbe40"
      },
      "outputs": [],
      "source": [
        "outloc = r'whrblogs\\\\'\n",
        "\n",
        "keys = []\n",
        "pages = bucket.objects.pages()\n",
        "for page in pages:\n",
        "    for obj in page:\n",
        "        if(len(keys) >= 1440):\n",
        "            del keys[0]\n",
        "        keys.append(obj.key)\n",
        "i = 1\n",
        "for key in keys:\n",
        "    outname = outloc + 'whrblog' + str(i)\n",
        "    client.download_file('whrbstreamlogs', key, outname)\n",
        "    i += 1"
      ]
    },
    {
      "cell_type": "code",
      "execution_count": null,
      "id": "ea4cf719",
      "metadata": {
        "id": "ea4cf719"
      },
      "outputs": [],
      "source": [
        ""
      ]
    }
  ],
  "metadata": {
    "kernelspec": {
      "display_name": "Python 3",
      "language": "python",
      "name": "python3"
    },
    "language_info": {
      "codemirror_mode": {
        "name": "ipython",
        "version": 3
      },
      "file_extension": ".py",
      "mimetype": "text/x-python",
      "name": "python",
      "nbconvert_exporter": "python",
      "pygments_lexer": "ipython3",
      "version": "3.7.11"
    },
    "colab": {
      "name": "Greene_FinalChallenge_AWSAccess.ipynb",
      "provenance": [],
      "collapsed_sections": []
    }
  },
  "nbformat": 4,
  "nbformat_minor": 5
}